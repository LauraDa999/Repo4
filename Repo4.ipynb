{
 "cells": [
  {
   "cell_type": "code",
   "execution_count": 6,
   "metadata": {},
   "outputs": [
    {
     "name": "stdout",
     "output_type": "stream",
     "text": [
      "97 es vocal minúscula: True\n",
      "105 es vocal minúscula: True\n",
      "120 es vocal minúscula: False\n"
     ]
    }
   ],
   "source": [
    "# 1:\n",
    "def es_ascii_vocal_minuscula(numero):\n",
    "    # Verificar si el número corresponde al código ASCII de una vocal minúscula\n",
    "    if 97 <= numero <= 122 and chr(numero) in 'aeiou':\n",
    "        return True\n",
    "    else:\n",
    "        return False\n",
    "\n",
    "# Ejemplos de uso\n",
    "numero_1 = 97\n",
    "numero_2 = 105\n",
    "numero_3 = 120\n",
    "\n",
    "print(f\"{numero_1} es vocal minúscula: {es_ascii_vocal_minuscula(numero_1)}\")\n",
    "print(f\"{numero_2} es vocal minúscula: {es_ascii_vocal_minuscula(numero_2)}\")\n",
    "print(f\"{numero_3} es vocal minúscula: {es_ascii_vocal_minuscula(numero_3)}\")\n"
   ]
  },
  {
   "cell_type": "code",
   "execution_count": 7,
   "metadata": {},
   "outputs": [
    {
     "name": "stdout",
     "output_type": "stream",
     "text": [
      "El código ASCII de la primera letra de 'A' es par: False\n",
      "El código ASCII de la primera letra de 'Z' es par: True\n",
      "El código ASCII de la primera letra de 'X' es par: True\n"
     ]
    }
   ],
   "source": [
    "#2.\n",
    "def es_codigo_ascii_par(cadena):\n",
    "    if len(cadena) == 1 and ord(cadena[0]) % 2 == 0:\n",
    "        return True\n",
    "    else:\n",
    "        return False\n",
    "\n",
    "# Uso\n",
    "cadena_1 = 'A'\n",
    "cadena_2 = 'Z'\n",
    "cadena_3 = 'X'\n",
    "\n",
    "print(f\"El código ASCII de la primera letra de '{cadena_1}' es par: {es_codigo_ascii_par(cadena_1)}\")\n",
    "print(f\"El código ASCII de la primera letra de '{cadena_2}' es par: {es_codigo_ascii_par(cadena_2)}\")\n",
    "print(f\"El código ASCII de la primera letra de '{cadena_3}' es par: {es_codigo_ascii_par(cadena_3)}\")\n"
   ]
  },
  {
   "cell_type": "code",
   "execution_count": 3,
   "metadata": {},
   "outputs": [
    {
     "name": "stdout",
     "output_type": "stream",
     "text": [
      "¿'5' es un dígito?: True\n",
      "¿'a' es un dígito?: False\n",
      "¿'!' es un dígito?: False\n"
     ]
    }
   ],
   "source": [
    "#3.\n",
    "def es_digito(caracter):\n",
    "    \n",
    "    if caracter.isdigit():\n",
    "        return True\n",
    "    else:\n",
    "        return False\n",
    "\n",
    "# Uso\n",
    "caracter_1 = '5'\n",
    "caracter_2 = 'a'\n",
    "caracter_3 = '!'\n",
    "\n",
    "print(f\"¿'{caracter_1}' es un dígito?: {es_digito(caracter_1)}\")\n",
    "print(f\"¿'{caracter_2}' es un dígito?: {es_digito(caracter_2)}\")\n",
    "print(f\"¿'{caracter_3}' es un dígito?: {es_digito(caracter_3)}\")\n"
   ]
  },
  {
   "cell_type": "code",
   "execution_count": 7,
   "metadata": {},
   "outputs": [
    {
     "name": "stdout",
     "output_type": "stream",
     "text": [
      "El punto (3, 4) está en el interior del círculo.\n",
      "El punto (-2, -2) está en el interior del círculo.\n"
     ]
    }
   ],
   "source": [
    "#4.\n",
    "import math\n",
    "\n",
    "def punto_en_circulo(x, y, centro_x, centro_y, radio):\n",
    "    distancia_al_centro = math.sqrt((x - centro_x)**2 + (y - centro_y)**2)\n",
    "\n",
    "    if distancia_al_centro < radio:\n",
    "        print(f\"El punto ({x}, {y}) está en el interior del círculo.\")\n",
    "    else:\n",
    "        print(f\"El punto ({x}, {y}) no está en el interior del círculo.\")\n",
    "\n",
    "# Uso:\n",
    "centro_x = 1\n",
    "centro_y = 0\n",
    "radio = 12\n",
    "\n",
    "punto_en_circulo(3, 4, centro_x, centro_y, radio)\n",
    "punto_en_circulo(-2, -2, centro_x, centro_y, radio)\n"
   ]
  },
  {
   "cell_type": "code",
   "execution_count": 11,
   "metadata": {},
   "outputs": [
    {
     "name": "stdout",
     "output_type": "stream",
     "text": [
      "Con estas longitudes se puede construir un triángulo.\n",
      "Con estas longitudes no se puede construir un triángulo.\n"
     ]
    }
   ],
   "source": [
    "#5.\n",
    "def es_triangulo(a, b, c):\n",
    "    if a + b > c and a + c > b and b + c > a:\n",
    "        print(\"Con estas longitudes se puede construir un triángulo.\")\n",
    "    else:\n",
    "        print(\"Con estas longitudes no se puede construir un triángulo.\")\n",
    "\n",
    "# Uso:\n",
    "longitud_1 = 3\n",
    "longitud_2 = 4\n",
    "longitud_3 = 5\n",
    "\n",
    "es_triangulo(longitud_1, longitud_2, longitud_3)\n",
    "\n",
    "longitud_4 = 1\n",
    "longitud_5 = 2\n",
    "longitud_6 = 7\n",
    "\n",
    "es_triangulo(longitud_4, longitud_5, longitud_6)\n"
   ]
  }
 ],
 "metadata": {
  "kernelspec": {
   "display_name": "Python 3",
   "language": "python",
   "name": "python3"
  },
  "language_info": {
   "name": "python",
   "version": "3.11.5"
  }
 },
 "nbformat": 4,
 "nbformat_minor": 2
}
